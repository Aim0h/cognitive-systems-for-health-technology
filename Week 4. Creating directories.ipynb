{
 "cells": [
  {
   "cell_type": "markdown",
   "metadata": {},
   "source": [
    "# Week 4. Create directories and datasets\n",
    "Cognitive Systems for Health Technology Applications<br>\n",
    "Sakari Lukkarinen & Juha Kopu, 4.2.2018<br>\n",
    "[Helsinki Metropolia University of Applied Sciences](http://metropolia.fi/en)\n",
    "\n",
    "This is a helper script that:\n",
    "1. Checks how many samples are in the original downloaded dataset\n",
    "2. Creates the directory structure for the datasets\n",
    "3. Creates the directories\n",
    "4. Splits the data into train, validation, and test sets\n",
    "5. Copies the data into the directories\n"
   ]
  },
  {
   "cell_type": "code",
   "execution_count": null,
   "metadata": {
    "collapsed": true
   },
   "outputs": [],
   "source": [
    "import os, shutil"
   ]
  },
  {
   "cell_type": "markdown",
   "metadata": {},
   "source": [
    "## 1. Check the downloaded data"
   ]
  },
  {
   "cell_type": "code",
   "execution_count": null,
   "metadata": {},
   "outputs": [],
   "source": [
    "# List all filenames in the master dataset and count how many samples there are\n",
    "original_dir = '..\\\\..\\\\retinopathy-dataset-master'\n",
    "\n",
    "class1 = 'nosymptoms'\n",
    "original_nosymptoms_dir = os.path.join(original_dir, class1)\n",
    "nosymptoms_fnames = os.listdir(original_nosymptoms_dir)\n",
    "\n",
    "class2 = 'symptoms'\n",
    "original_symptoms_dir = os.path.join(original_dir, class2)\n",
    "symptoms_fnames = os.listdir(original_symptoms_dir)\n",
    "\n",
    "len(symptoms_fnames), len(nosymptoms_fnames)"
   ]
  },
  {
   "cell_type": "markdown",
   "metadata": {},
   "source": [
    "## 2. Directory structure"
   ]
  },
  {
   "cell_type": "code",
   "execution_count": null,
   "metadata": {
    "collapsed": true
   },
   "outputs": [],
   "source": [
    "# Base directory is where the datasets will be created\n",
    "base_dir = '..\\\\..\\\\dataset2'\n",
    "\n",
    "# For training set\n",
    "train_dir = os.path.join(base_dir, 'train')\n",
    "train_nosymptoms_dir = os.path.join(base_dir, 'train', 'nosymptoms')\n",
    "train_symptoms_dir = os.path.join(base_dir, 'train', 'symptoms')\n",
    "\n",
    "# For validation set\n",
    "validation_dir = os.path.join(base_dir, 'validation')\n",
    "validation_nosymptoms_dir = os.path.join(base_dir, 'validation', 'nosymptoms')\n",
    "validation_symptoms_dir = os.path.join(base_dir, 'validation', 'symptoms')\n",
    "\n",
    "# For test set\n",
    "test_dir = os.path.join(base_dir, 'test')\n",
    "test_nosymptoms_dir = os.path.join(base_dir, 'test', 'nosymptoms')\n",
    "test_symptoms_dir = os.path.join(base_dir, 'test', 'symptoms')"
   ]
  },
  {
   "cell_type": "markdown",
   "metadata": {},
   "source": [
    "## 3. Create directories\n",
    "Some hints: https://github.com/geekcomputers/Python\n",
    "You might also be intersted in to : [How to delete the contents of a folder in Python?](https://stackoverflow.com/questions/185936/how-to-delete-the-contents-of-a-folder-in-python)"
   ]
  },
  {
   "cell_type": "code",
   "execution_count": null,
   "metadata": {},
   "outputs": [],
   "source": [
    "if not(os.path.exists(base_dir)):\n",
    "    print('Creating dataset folders to:', base_dir)\n",
    "    os.mkdir(base_dir)\n",
    "    os.mkdir(train_dir)\n",
    "    os.mkdir(train_nosymptoms_dir)\n",
    "    os.mkdir(train_symptoms_dir)\n",
    "    os.mkdir(validation_dir)\n",
    "    os.mkdir(validation_nosymptoms_dir)\n",
    "    os.mkdir(validation_symptoms_dir)\n",
    "    os.mkdir(test_dir)\n",
    "    os.mkdir(test_nosymptoms_dir)\n",
    "    os.mkdir(test_symptoms_dir)\n",
    "else:\n",
    "    print(base_dir, 'already exists!')"
   ]
  },
  {
   "cell_type": "markdown",
   "metadata": {},
   "source": [
    "## 4. Split the data filenames into train, validation and test sets"
   ]
  },
  {
   "cell_type": "code",
   "execution_count": null,
   "metadata": {
    "collapsed": true
   },
   "outputs": [],
   "source": [
    "from sklearn.model_selection import train_test_split"
   ]
  },
  {
   "cell_type": "code",
   "execution_count": null,
   "metadata": {},
   "outputs": [],
   "source": [
    "# Disease (symptom) cases split\n",
    "\n",
    "# Take 20 % out for testing\n",
    "train_symptoms_fnames, test_symptoms_fnames = train_test_split(symptoms_fnames, test_size = 0.2)\n",
    "\n",
    "# From the remaining 80% take 0.25 (=0.8*0.25 = 20% of total) out for validation\n",
    "train_symptoms_fnames, validation_symptoms_fnames = train_test_split(train_symptoms_fnames, test_size = 0.25)\n",
    "\n",
    "len(train_symptoms_fnames), len(validation_symptoms_fnames), len(test_symptoms_fnames)\n",
    "# For debugging purposes, remove the comment marks.\n",
    "# print(train_symptoms_fnames)\n",
    "# print(validation_symptoms_fnames)\n",
    "# print(test_symptoms_fnames)"
   ]
  },
  {
   "cell_type": "code",
   "execution_count": null,
   "metadata": {},
   "outputs": [],
   "source": [
    "# Healthy (nosyptom) cases split\n",
    "\n",
    "# Take 20 % out for testing\n",
    "train_nosymptoms_fnames, test_nosymptoms_fnames = train_test_split(nosymptoms_fnames, test_size = 0.2)\n",
    "\n",
    "# From the remaining 80% take 0.25 (20% of total) out for validation\n",
    "train_nosymptoms_fnames, validation_nosymptoms_fnames = train_test_split(train_nosymptoms_fnames, test_size = 0.25)\n",
    "\n",
    "len(train_nosymptoms_fnames), len(validation_nosymptoms_fnames), len(test_nosymptoms_fnames)\n",
    "# For debugging purposes, remove the comment marks.\n",
    "# print(train_nosymptoms_fnames)\n",
    "# print(validation_nosymptoms_fnames)\n",
    "# print(test_nosymptoms_fnames)"
   ]
  },
  {
   "cell_type": "markdown",
   "metadata": {},
   "source": [
    "## 5. Copy data into the directories"
   ]
  },
  {
   "cell_type": "code",
   "execution_count": null,
   "metadata": {},
   "outputs": [],
   "source": [
    "%%timeit\n",
    "\n",
    "# Copy the original files into the dataset folders\n",
    "\n",
    "# Training set\n",
    "# Disease \n",
    "for fname in train_symptoms_fnames:\n",
    "    src = os.path.join(original_symptoms_dir, fname)\n",
    "    dst = os.path.join(train_symptoms_dir, fname)\n",
    "    shutil.copyfile(src, dst)\n",
    "# Healthy \n",
    "for fname in train_nosymptoms_fnames:\n",
    "    src = os.path.join(original_nosymptoms_dir, fname)\n",
    "    dst = os.path.join(train_nosymptoms_dir, fname)\n",
    "    shutil.copyfile(src, dst)\n",
    "\n",
    "# Validation set\n",
    "# Disease \n",
    "for fname in validation_symptoms_fnames:\n",
    "    src = os.path.join(original_symptoms_dir, fname)\n",
    "    dst = os.path.join(validation_symptoms_dir, fname)\n",
    "    shutil.copyfile(src, dst)\n",
    "# Healthy\n",
    "for fname in validation_nosymptoms_fnames:\n",
    "    src = os.path.join(original_nosymptoms_dir, fname)\n",
    "    dst = os.path.join(validation_nosymptoms_dir, fname)\n",
    "    shutil.copyfile(src, dst)\n",
    "\n",
    "# Test set\n",
    "# Disease\n",
    "for fname in test_symptoms_fnames:\n",
    "    src = os.path.join(original_symptoms_dir, fname)\n",
    "    dst = os.path.join(test_symptoms_dir, fname)\n",
    "    shutil.copyfile(src, dst)\n",
    "# Healthy\n",
    "for fname in test_nosymptoms_fnames:\n",
    "    src = os.path.join(original_nosymptoms_dir, fname)\n",
    "    dst = os.path.join(test_nosymptoms_dir, fname)\n",
    "    shutil.copyfile(src, dst)\n",
    "\n"
   ]
  }
 ],
 "metadata": {
  "kernelspec": {
   "display_name": "Python 3",
   "language": "python",
   "name": "python3"
  },
  "language_info": {
   "codemirror_mode": {
    "name": "ipython",
    "version": 3
   },
   "file_extension": ".py",
   "mimetype": "text/x-python",
   "name": "python",
   "nbconvert_exporter": "python",
   "pygments_lexer": "ipython3",
   "version": "3.6.3"
  }
 },
 "nbformat": 4,
 "nbformat_minor": 2
}
