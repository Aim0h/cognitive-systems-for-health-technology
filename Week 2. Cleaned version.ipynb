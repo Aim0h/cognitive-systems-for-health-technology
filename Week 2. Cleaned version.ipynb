{
 "cells": [
  {
   "cell_type": "markdown",
   "metadata": {},
   "source": [
    "# Week 2. Cleaned version\n",
    "Cognitive Systems for Health Technology Applications<br>\n",
    "28.1.2018<br>\n",
    "Sakari Lukkarinen<br>\n",
    "Helsinki Metropolia University of Applied Sciences"
   ]
  },
  {
   "cell_type": "markdown",
   "metadata": {},
   "source": [
    "## Description\n",
    "This code shows how to:\n",
    "- import the data to jupyter notebook using pandas\n",
    "- replace columnwise the missing values with the most common values \n",
    "- scale the data to 0..1 using the min and max\n",
    "- extract only those variables we are interested in"
   ]
  },
  {
   "cell_type": "code",
   "execution_count": 6,
   "metadata": {
    "collapsed": true
   },
   "outputs": [],
   "source": [
    "# Import libraries\n",
    "# %pylab inline\n",
    "import numpy as np\n",
    "import matplotlib.pyplot as plt\n",
    "%matplotlib inline\n",
    "\n",
    "import pandas as pd"
   ]
  },
  {
   "cell_type": "code",
   "execution_count": 7,
   "metadata": {
    "collapsed": true
   },
   "outputs": [],
   "source": [
    "# location of the dataset\n",
    "filename = 'http://archive.ics.uci.edu/ml/machine-learning-databases/heart-disease/processed.switzerland.data'\n",
    "\n",
    "# column names for the data\n",
    "colnames = ['age','sex','cp','tresbps','chol',\n",
    "            'fbs','restecg','thalach','exang',\n",
    "            'oldpeak','slope','ca','thal','num']\n",
    "\n",
    "# read data to data frame\n",
    "df = pd.read_csv(filename, \n",
    "                 names = colnames, \n",
    "                 na_values = '?')"
   ]
  },
  {
   "cell_type": "code",
   "execution_count": 8,
   "metadata": {
    "collapsed": true
   },
   "outputs": [],
   "source": [
    "# Replace missing values with mode\n",
    "df = df.where(~np.isnan(df), df.mode(), axis = 'columns')"
   ]
  },
  {
   "cell_type": "code",
   "execution_count": 9,
   "metadata": {
    "collapsed": true
   },
   "outputs": [],
   "source": [
    "# Output value: 0 = normal, 1 = heart disease\n",
    "labels = (df['num'] > 0).values"
   ]
  },
  {
   "cell_type": "code",
   "execution_count": 10,
   "metadata": {
    "collapsed": true
   },
   "outputs": [],
   "source": [
    "# Scale the attributes between min and max\n",
    "df2 = (df - df.min())/(df.max() - df.min())\n",
    "\n",
    "# Cholesterol values were originally all zeros\n",
    "df2['chol'] = 0\n",
    "\n",
    "# Select all attributes that were measured without angiography\n",
    "columns = ['age', 'sex', 'cp', 'tresbps', \n",
    "           'chol', 'fbs', 'restecg', 'thalach', \n",
    "           'exang', 'oldpeak', 'slope']\n",
    "\n",
    "# Convert the data to numpy array\n",
    "data = df2[columns].values"
   ]
  },
  {
   "cell_type": "code",
   "execution_count": 11,
   "metadata": {
    "collapsed": true
   },
   "outputs": [],
   "source": [
    "# Now you are ready to use the labels and data for neural networks!"
   ]
  }
 ],
 "metadata": {
  "kernelspec": {
   "display_name": "Python 3",
   "language": "python",
   "name": "python3"
  },
  "language_info": {
   "codemirror_mode": {
    "name": "ipython",
    "version": 3
   },
   "file_extension": ".py",
   "mimetype": "text/x-python",
   "name": "python",
   "nbconvert_exporter": "python",
   "pygments_lexer": "ipython3",
   "version": "3.6.3"
  }
 },
 "nbformat": 4,
 "nbformat_minor": 2
}
