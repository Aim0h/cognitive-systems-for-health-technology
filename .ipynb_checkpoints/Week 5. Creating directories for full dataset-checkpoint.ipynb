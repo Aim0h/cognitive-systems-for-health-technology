{
 "cells": [
  {
   "cell_type": "code",
   "execution_count": 15,
   "metadata": {
    "collapsed": true
   },
   "outputs": [],
   "source": [
    "import os, shutil\n",
    "import pandas as pd\n",
    "import matplotlib.pyplot as plt\n",
    "import numpy as np"
   ]
  },
  {
   "cell_type": "code",
   "execution_count": 16,
   "metadata": {
    "collapsed": true
   },
   "outputs": [],
   "source": [
    "# List all filenames in the master dataset and count how many samples there are\n",
    "original_dir = 'D:/Retinopathy'\n",
    "train_labels_file = 'trainLabels.csv'\n",
    "test_labels_file = 'retinopathy_solution.csv'"
   ]
  },
  {
   "cell_type": "code",
   "execution_count": 28,
   "metadata": {
    "collapsed": true
   },
   "outputs": [],
   "source": [
    "# Create train directories\n",
    "\n",
    "train_dir = os.path.join(original_dir, 'train')\n",
    "# os.mkdir(train_dir)\n",
    "os.mkdir(os.path.join(train_dir, '0'))\n",
    "os.mkdir(os.path.join(train_dir, '1'))\n",
    "os.mkdir(os.path.join(train_dir, '2'))\n",
    "os.mkdir(os.path.join(train_dir, '3'))\n",
    "os.mkdir(os.path.join(train_dir, '4'))\n",
    "\n",
    "test_dir = os.path.join(original_dir, 'test')\n",
    "# os.mkdir(test_dir)\n",
    "# os.mkdir(os.path.join(test_dir, '0'))\n",
    "# os.mkdir(os.path.join(test_dir, '1'))\n",
    "# os.mkdir(os.path.join(test_dir, '2'))\n",
    "# os.mkdir(os.path.join(test_dir, '3'))\n",
    "# os.mkdir(os.path.join(test_dir, '4'))"
   ]
  },
  {
   "cell_type": "code",
   "execution_count": 30,
   "metadata": {
    "collapsed": true
   },
   "outputs": [
    {
     "name": "stdout",
     "output_type": "stream",
     "text": [
      "0\n",
      "D:/Retinopathy\\train\\10_left.jpeg\n",
      "D:/Retinopathy\\train\\0\\10_left.jpeg\n",
      "1\n",
      "D:/Retinopathy\\train\\10_right.jpeg\n",
      "D:/Retinopathy\\train\\0\\10_right.jpeg\n",
      "2\n",
      "D:/Retinopathy\\train\\13_left.jpeg\n",
      "D:/Retinopathy\\train\\0\\13_left.jpeg\n",
      "3\n",
      "D:/Retinopathy\\train\\13_right.jpeg\n",
      "D:/Retinopathy\\train\\0\\13_right.jpeg\n",
      "4\n",
      "D:/Retinopathy\\train\\15_left.jpeg\n",
      "D:/Retinopathy\\train\\1\\15_left.jpeg\n",
      "5\n",
      "D:/Retinopathy\\train\\15_right.jpeg\n",
      "D:/Retinopathy\\train\\2\\15_right.jpeg\n",
      "6\n",
      "D:/Retinopathy\\train\\16_left.jpeg\n",
      "D:/Retinopathy\\train\\4\\16_left.jpeg\n",
      "7\n",
      "D:/Retinopathy\\train\\16_right.jpeg\n",
      "D:/Retinopathy\\train\\4\\16_right.jpeg\n",
      "8\n",
      "D:/Retinopathy\\train\\17_left.jpeg\n",
      "D:/Retinopathy\\train\\0\\17_left.jpeg\n",
      "9\n",
      "D:/Retinopathy\\train\\17_right.jpeg\n",
      "D:/Retinopathy\\train\\1\\17_right.jpeg\n",
      "10\n",
      "D:/Retinopathy\\train\\19_left.jpeg\n",
      "D:/Retinopathy\\train\\0\\19_left.jpeg\n",
      "11\n",
      "D:/Retinopathy\\train\\19_right.jpeg\n",
      "D:/Retinopathy\\train\\0\\19_right.jpeg\n"
     ]
    }
   ],
   "source": [
    "# Read the train labels\n",
    "df = pd.read_csv(os.path.join(original_dir, train_labels_file))\n",
    "\n",
    "# Iterate through all files and copy them to sub-folders\n",
    "for idx, row in df.iterrows():\n",
    "    fname = row['image'] + '.jpeg'\n",
    "    src = os.path.join(original_dir, 'train', fname)\n",
    "    dst = os.path.join(original_dir, 'train', str(row['level']), fname)\n",
    "    shutil.copyfile(src, dst)"
   ]
  },
  {
   "cell_type": "code",
   "execution_count": null,
   "metadata": {
    "collapsed": true
   },
   "outputs": [],
   "source": [
    "# Read the test labels\n",
    "df = pd.read_csv(os.path.join(original_dir, test_labels_file))\n",
    "\n",
    "# Iterate through all files and copy them to sub-folders\n",
    "for idx, row in df.iterrows():\n",
    "    fname = row['image'] + '.jpeg'\n",
    "    src = os.path.join(original_dir, 'test', fname)\n",
    "    dst = os.path.join(original_dir, 'test', str(row['level']), fname)\n",
    "    shutil.copyfile(src, dst)"
   ]
  },
  {
   "cell_type": "code",
   "execution_count": null,
   "metadata": {
    "collapsed": true
   },
   "outputs": [],
   "source": []
  }
 ],
 "metadata": {
  "kernelspec": {
   "display_name": "Python 3",
   "language": "python",
   "name": "python3"
  },
  "language_info": {
   "codemirror_mode": {
    "name": "ipython",
    "version": 3
   },
   "file_extension": ".py",
   "mimetype": "text/x-python",
   "name": "python",
   "nbconvert_exporter": "python",
   "pygments_lexer": "ipython3",
   "version": "3.6.3"
  }
 },
 "nbformat": 4,
 "nbformat_minor": 2
}
